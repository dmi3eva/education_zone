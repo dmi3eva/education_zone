{
  "nbformat": 4,
  "nbformat_minor": 0,
  "metadata": {
    "colab": {
      "name": "RNN.ipynb",
      "provenance": [],
      "collapsed_sections": [],
      "authorship_tag": "ABX9TyP0rq2ff/4hISrYtUpmvbmI",
      "include_colab_link": true
    },
    "kernelspec": {
      "name": "python3",
      "display_name": "Python 3"
    },
    "language_info": {
      "name": "python"
    }
  },
  "cells": [
    {
      "cell_type": "markdown",
      "metadata": {
        "id": "view-in-github",
        "colab_type": "text"
      },
      "source": [
        "<a href=\"https://colab.research.google.com/github/dmi3eva/education_zone/blob/main/RNN.ipynb\" target=\"_parent\"><img src=\"https://colab.research.google.com/assets/colab-badge.svg\" alt=\"Open In Colab\"/></a>"
      ]
    },
    {
      "cell_type": "markdown",
      "metadata": {
        "id": "VMJu7QEkR_7q"
      },
      "source": [
        "Implementation of https://github.com/tensorflow/nmt. \n",
        "\n",
        "**Description:** Deep multi-layer RNN which is unidirectional and uses LSTM as a recurrent unit.\n",
        "\n",
        "\n",
        "\n",
        "<figure>\n",
        "<left>\n",
        "<img src='https://github.com/tensorflow/nmt/blob/master/nmt/g3doc/img/seq2seq.jpg?raw=true' / width=\"400\">\n",
        "<figcaption>Image Caption</figcaption></left>\n",
        "</figure>"
      ]
    },
    {
      "cell_type": "markdown",
      "metadata": {
        "id": "H_zyVDWKl-D9"
      },
      "source": [
        "**Service part**"
      ]
    },
    {
      "cell_type": "code",
      "metadata": {
        "colab": {
          "base_uri": "https://localhost:8080/"
        },
        "id": "M8tVvuhcl9xV",
        "outputId": "bfb7cae6-3053-45d1-e54b-c3bc3a8b71f7"
      },
      "source": [
        "from google.colab import drive\n",
        "drive.mount('/content/drive')"
      ],
      "execution_count": 2,
      "outputs": [
        {
          "output_type": "stream",
          "text": [
            "Mounted at /content/drive\n"
          ],
          "name": "stdout"
        }
      ]
    },
    {
      "cell_type": "code",
      "metadata": {
        "colab": {
          "base_uri": "https://localhost:8080/"
        },
        "id": "nIOWP0QbmK7d",
        "outputId": "586214bb-ef99-44aa-dbc6-618306fe6eaa"
      },
      "source": [
        "%cd /content\n",
        "%cd drive\n",
        "%cd My\\ Drive\n",
        "%cd My\n",
        "%cd Personal\n",
        "%cd Erudition\n",
        "%cd RNN"
      ],
      "execution_count": 4,
      "outputs": [
        {
          "output_type": "stream",
          "text": [
            "/content\n",
            "/content/drive\n",
            "/content/drive/My Drive\n",
            "/content/drive/My Drive/My\n",
            "/content/drive/My Drive/My/Personal\n",
            "/content/drive/My Drive/My/Personal/Erudition\n",
            "/content/drive/My Drive/My/Personal/Erudition/RNN\n",
            "RNN.ipynb\n"
          ],
          "name": "stdout"
        }
      ]
    },
    {
      "cell_type": "markdown",
      "metadata": {
        "id": "_QvWtmN9lVfW"
      },
      "source": [
        "**Installing tutorial**"
      ]
    },
    {
      "cell_type": "code",
      "metadata": {
        "id": "nkh-hY6tRKxN",
        "colab": {
          "base_uri": "https://localhost:8080/"
        },
        "outputId": "7ac5e01a-575d-459e-fee4-dcb6b09c4ca8"
      },
      "source": [
        "!git clone https://github.com/tensorflow/nmt/"
      ],
      "execution_count": 5,
      "outputs": [
        {
          "output_type": "stream",
          "text": [
            "Cloning into 'nmt'...\n",
            "remote: Enumerating objects: 1283, done.\u001b[K\n",
            "remote: Total 1283 (delta 0), reused 0 (delta 0), pack-reused 1283\u001b[K\n",
            "Receiving objects: 100% (1283/1283), 1.24 MiB | 3.56 MiB/s, done.\n",
            "Resolving deltas: 100% (918/918), done.\n"
          ],
          "name": "stdout"
        }
      ]
    }
  ]
}