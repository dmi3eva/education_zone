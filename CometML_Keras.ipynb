{
  "nbformat": 4,
  "nbformat_minor": 0,
  "metadata": {
    "colab": {
      "name": "CometML_Keras.ipynb",
      "provenance": [],
      "authorship_tag": "ABX9TyMtKuNTXVbKkETwdB24kpSc",
      "include_colab_link": true
    },
    "kernelspec": {
      "name": "python3",
      "display_name": "Python 3"
    },
    "language_info": {
      "name": "python"
    }
  },
  "cells": [
    {
      "cell_type": "markdown",
      "metadata": {
        "id": "view-in-github",
        "colab_type": "text"
      },
      "source": [
        "<a href=\"https://colab.research.google.com/github/dmi3eva/education_zone/blob/main/CometML_Keras.ipynb\" target=\"_parent\"><img src=\"https://colab.research.google.com/assets/colab-badge.svg\" alt=\"Open In Colab\"/></a>"
      ]
    },
    {
      "cell_type": "code",
      "metadata": {
        "colab": {
          "base_uri": "https://localhost:8080/"
        },
        "id": "f6VCxFbIgtwX",
        "outputId": "1bbcff0b-1e15-4cd7-a993-746e6800a68b"
      },
      "source": [
        "!pip install comet_ml"
      ],
      "execution_count": 2,
      "outputs": [
        {
          "output_type": "stream",
          "name": "stdout",
          "text": [
            "Collecting comet_ml\n",
            "  Downloading comet_ml-3.17.0-py2.py3-none-any.whl (295 kB)\n",
            "\u001b[?25l\r\u001b[K     |█                               | 10 kB 26.2 MB/s eta 0:00:01\r\u001b[K     |██▏                             | 20 kB 33.8 MB/s eta 0:00:01\r\u001b[K     |███▎                            | 30 kB 23.6 MB/s eta 0:00:01\r\u001b[K     |████▍                           | 40 kB 18.1 MB/s eta 0:00:01\r\u001b[K     |█████▌                          | 51 kB 15.5 MB/s eta 0:00:01\r\u001b[K     |██████▋                         | 61 kB 13.5 MB/s eta 0:00:01\r\u001b[K     |███████▊                        | 71 kB 13.5 MB/s eta 0:00:01\r\u001b[K     |████████▉                       | 81 kB 14.9 MB/s eta 0:00:01\r\u001b[K     |██████████                      | 92 kB 13.2 MB/s eta 0:00:01\r\u001b[K     |███████████                     | 102 kB 13.5 MB/s eta 0:00:01\r\u001b[K     |████████████▏                   | 112 kB 13.5 MB/s eta 0:00:01\r\u001b[K     |█████████████▎                  | 122 kB 13.5 MB/s eta 0:00:01\r\u001b[K     |██████████████▍                 | 133 kB 13.5 MB/s eta 0:00:01\r\u001b[K     |███████████████▌                | 143 kB 13.5 MB/s eta 0:00:01\r\u001b[K     |████████████████▋               | 153 kB 13.5 MB/s eta 0:00:01\r\u001b[K     |█████████████████▊              | 163 kB 13.5 MB/s eta 0:00:01\r\u001b[K     |██████████████████▉             | 174 kB 13.5 MB/s eta 0:00:01\r\u001b[K     |████████████████████            | 184 kB 13.5 MB/s eta 0:00:01\r\u001b[K     |█████████████████████           | 194 kB 13.5 MB/s eta 0:00:01\r\u001b[K     |██████████████████████▏         | 204 kB 13.5 MB/s eta 0:00:01\r\u001b[K     |███████████████████████▎        | 215 kB 13.5 MB/s eta 0:00:01\r\u001b[K     |████████████████████████▍       | 225 kB 13.5 MB/s eta 0:00:01\r\u001b[K     |█████████████████████████▌      | 235 kB 13.5 MB/s eta 0:00:01\r\u001b[K     |██████████████████████████▋     | 245 kB 13.5 MB/s eta 0:00:01\r\u001b[K     |███████████████████████████▊    | 256 kB 13.5 MB/s eta 0:00:01\r\u001b[K     |████████████████████████████▉   | 266 kB 13.5 MB/s eta 0:00:01\r\u001b[K     |██████████████████████████████  | 276 kB 13.5 MB/s eta 0:00:01\r\u001b[K     |███████████████████████████████ | 286 kB 13.5 MB/s eta 0:00:01\r\u001b[K     |████████████████████████████████| 295 kB 13.5 MB/s \n",
            "\u001b[?25hRequirement already satisfied: wrapt>=1.11.2 in /usr/local/lib/python3.7/dist-packages (from comet_ml) (1.12.1)\n",
            "Collecting requests-toolbelt>=0.8.0\n",
            "  Downloading requests_toolbelt-0.9.1-py2.py3-none-any.whl (54 kB)\n",
            "\u001b[K     |████████████████████████████████| 54 kB 2.3 MB/s \n",
            "\u001b[?25hCollecting dulwich>=0.20.6\n",
            "  Downloading dulwich-0.20.25-cp37-cp37m-manylinux_2_5_x86_64.manylinux1_x86_64.manylinux_2_12_x86_64.manylinux2010_x86_64.whl (530 kB)\n",
            "\u001b[K     |████████████████████████████████| 530 kB 61.8 MB/s \n",
            "\u001b[?25hRequirement already satisfied: jsonschema!=3.1.0,>=2.6.0 in /usr/local/lib/python3.7/dist-packages (from comet_ml) (2.6.0)\n",
            "Collecting everett[ini]>=1.0.1\n",
            "  Downloading everett-2.0.1-py2.py3-none-any.whl (33 kB)\n",
            "Requirement already satisfied: nvidia-ml-py3>=7.352.0 in /usr/local/lib/python3.7/dist-packages (from comet_ml) (7.352.0)\n",
            "Collecting semantic-version>=2.8.0\n",
            "  Downloading semantic_version-2.8.5-py2.py3-none-any.whl (15 kB)\n",
            "Requirement already satisfied: six in /usr/local/lib/python3.7/dist-packages (from comet_ml) (1.15.0)\n",
            "Requirement already satisfied: requests>=2.18.4 in /usr/local/lib/python3.7/dist-packages (from comet_ml) (2.23.0)\n",
            "Collecting wurlitzer>=1.0.2\n",
            "  Downloading wurlitzer-3.0.2-py3-none-any.whl (7.3 kB)\n",
            "Collecting websocket-client>=0.55.0\n",
            "  Downloading websocket_client-1.2.1-py2.py3-none-any.whl (52 kB)\n",
            "\u001b[K     |████████████████████████████████| 52 kB 1.0 MB/s \n",
            "\u001b[?25hRequirement already satisfied: certifi in /usr/local/lib/python3.7/dist-packages (from dulwich>=0.20.6->comet_ml) (2021.5.30)\n",
            "Requirement already satisfied: urllib3>=1.24.1 in /usr/local/lib/python3.7/dist-packages (from dulwich>=0.20.6->comet_ml) (1.24.3)\n",
            "Collecting configobj\n",
            "  Downloading configobj-5.0.6.tar.gz (33 kB)\n",
            "Requirement already satisfied: idna<3,>=2.5 in /usr/local/lib/python3.7/dist-packages (from requests>=2.18.4->comet_ml) (2.10)\n",
            "Requirement already satisfied: chardet<4,>=3.0.2 in /usr/local/lib/python3.7/dist-packages (from requests>=2.18.4->comet_ml) (3.0.4)\n",
            "Building wheels for collected packages: configobj\n",
            "  Building wheel for configobj (setup.py) ... \u001b[?25l\u001b[?25hdone\n",
            "  Created wheel for configobj: filename=configobj-5.0.6-py3-none-any.whl size=34546 sha256=6072aa877bcd9541321e4fdd5a3651b787741fdfe5b09e07f9d73af8c6360664\n",
            "  Stored in directory: /root/.cache/pip/wheels/0d/c4/19/13d74440f2a571841db6b6e0a273694327498884dafb9cf978\n",
            "Successfully built configobj\n",
            "Installing collected packages: everett, configobj, wurlitzer, websocket-client, semantic-version, requests-toolbelt, dulwich, comet-ml\n",
            "Successfully installed comet-ml-3.17.0 configobj-5.0.6 dulwich-0.20.25 everett-2.0.1 requests-toolbelt-0.9.1 semantic-version-2.8.5 websocket-client-1.2.1 wurlitzer-3.0.2\n"
          ]
        }
      ]
    },
    {
      "cell_type": "code",
      "metadata": {
        "id": "XCZjzw70gjgE"
      },
      "source": [
        "from comet_ml import Experiment"
      ],
      "execution_count": 3,
      "outputs": []
    },
    {
      "cell_type": "code",
      "metadata": {
        "colab": {
          "base_uri": "https://localhost:8080/"
        },
        "id": "01DU7WVDg38t",
        "outputId": "cc1522de-c9f6-420f-fdbd-85f7b13748ed"
      },
      "source": [
        "#create an experiment with your api key\n",
        "experiment = Experiment(\n",
        "    api_key='J50QhHi9OMo7tVOATH6fUmN6v',\n",
        "    project_name='mnist',\n",
        "    auto_param_logging=False,\n",
        "    auto_histogram_weight_logging=True,\n",
        "    auto_histogram_gradient_logging=True,\n",
        "    auto_histogram_activation_logging=True,\n",
        ")\n",
        "\n",
        "from tensorflow import keras\n",
        "from tensorflow.keras.datasets import mnist\n",
        "from tensorflow.keras.models import Sequential\n",
        "from tensorflow.keras.layers import Dense, Dropout\n",
        "from tensorflow.keras.callbacks import EarlyStopping\n",
        "\n",
        "batch_size = 128\n",
        "num_classes = 10\n",
        "epochs = 20\n",
        "num_nodes = 64\n",
        "optimizer = 'adam'\n",
        "activation = 'relu'\n",
        "\n",
        "# the data, shuffled and split between train and test sets\n",
        "(x_train, y_train), (x_test, y_test) = mnist.load_data()\n",
        "\n",
        "x_train = x_train.reshape(60000, 784)\n",
        "x_test = x_test.reshape(10000, 784)\n",
        "x_train = x_train.astype('float32')\n",
        "x_test = x_test.astype('float32')\n",
        "x_train /= 255\n",
        "x_test /= 255\n",
        "print(x_train.shape[0], 'train samples')\n",
        "print(x_test.shape[0], 'test samples')\n",
        "\n",
        "# convert class vectors to binary class matrices\n",
        "y_train = keras.utils.to_categorical(y_train, num_classes)\n",
        "y_test = keras.utils.to_categorical(y_test, num_classes)\n",
        "\n",
        "#these will all get logged\n",
        "params={'batch_size':batch_size,\n",
        "        'epochs':epochs,\n",
        "        'layer1_type':'Dense',\n",
        "        'layer1_num_nodes':num_nodes,\n",
        "        'layer1_activation':activation,\n",
        "        'optimizer':optimizer\n",
        "}\n",
        "model = Sequential()\n",
        "model.add(Dense(num_nodes, activation='relu', input_shape=(784,)))\n",
        "# model.add(Dense(256, activation='relu'))\n",
        "model.add(Dense(num_classes, activation='softmax'))\n",
        "\n",
        "# print model.summary() to preserve automatically in `Output` tab\n",
        "print(model.summary())\n",
        "\n",
        "model.compile(loss='categorical_crossentropy',\n",
        "              optimizer=optimizer,\n",
        "              metrics=['accuracy'])\n",
        "\n",
        "#will log metrics with the prefix 'train_'\n",
        "with experiment.train():\n",
        "    history = model.fit(x_train, y_train,\n",
        "                        batch_size=batch_size,\n",
        "                        epochs=epochs,\n",
        "                        verbose=1,\n",
        "                        validation_data=(x_test, y_test),\n",
        "                        callbacks=[EarlyStopping(monitor='val_loss', min_delta=1e-4, patience=3, verbose=1, mode='auto')])\n",
        "\n",
        "# will log metrics with the prefix 'test_'\n",
        "with experiment.test():\n",
        "    loss, accuracy = model.evaluate(x_test, y_test)\n",
        "    metrics = {\n",
        "        'loss':loss,\n",
        "        'accuracy':accuracy\n",
        "    }\n",
        "    experiment.log_metrics(metrics)\n",
        "\n",
        "experiment.log_parameters(params)\n",
        "experiment.log_dataset_hash(x_train) #creates and logs a hash of your data"
      ],
      "execution_count": 4,
      "outputs": [
        {
          "output_type": "stream",
          "name": "stderr",
          "text": [
            "COMET WARNING: As you are running in a Jupyter environment, you will need to call `experiment.end()` when finished to ensure all metrics and code are logged before exiting.\n",
            "COMET INFO: Experiment is live on comet.ml https://www.comet.ml/dmi3eva/mnist/2dc1eb5e47aa4047b9ac0128d91e5a16\n",
            "\n"
          ]
        },
        {
          "output_type": "stream",
          "name": "stdout",
          "text": [
            "Downloading data from https://storage.googleapis.com/tensorflow/tf-keras-datasets/mnist.npz\n",
            "11493376/11490434 [==============================] - 0s 0us/step\n",
            "11501568/11490434 [==============================] - 0s 0us/step\n",
            "60000 train samples\n",
            "10000 test samples\n",
            "Model: \"sequential\"\n",
            "_________________________________________________________________\n",
            "Layer (type)                 Output Shape              Param #   \n",
            "=================================================================\n",
            "dense (Dense)                (None, 64)                50240     \n",
            "_________________________________________________________________\n",
            "dense_1 (Dense)              (None, 10)                650       \n",
            "=================================================================\n",
            "Total params: 50,890\n",
            "Trainable params: 50,890\n",
            "Non-trainable params: 0\n",
            "_________________________________________________________________\n",
            "None\n",
            "Epoch 1/20\n"
          ]
        },
        {
          "output_type": "stream",
          "name": "stderr",
          "text": [
            "COMET INFO: ignoring tensorflow summary log of metrics because of keras; set `comet_ml.loggers.tensorboard_logger.LOG_METRICS = True` to override\n"
          ]
        },
        {
          "output_type": "stream",
          "name": "stdout",
          "text": [
            "469/469 [==============================] - 2s 3ms/step - loss: 0.4326 - accuracy: 0.8839 - val_loss: 0.2313 - val_accuracy: 0.9323\n",
            "Epoch 2/20\n",
            "469/469 [==============================] - 1s 3ms/step - loss: 0.2021 - accuracy: 0.9427 - val_loss: 0.1717 - val_accuracy: 0.9490\n",
            "Epoch 3/20\n",
            "469/469 [==============================] - 1s 3ms/step - loss: 0.1524 - accuracy: 0.9562 - val_loss: 0.1403 - val_accuracy: 0.9588\n",
            "Epoch 4/20\n",
            "469/469 [==============================] - 1s 3ms/step - loss: 0.1222 - accuracy: 0.9644 - val_loss: 0.1220 - val_accuracy: 0.9649\n",
            "Epoch 5/20\n",
            "469/469 [==============================] - 1s 3ms/step - loss: 0.1020 - accuracy: 0.9704 - val_loss: 0.1126 - val_accuracy: 0.9654\n",
            "Epoch 6/20\n",
            "469/469 [==============================] - 1s 3ms/step - loss: 0.0880 - accuracy: 0.9744 - val_loss: 0.1009 - val_accuracy: 0.9707\n",
            "Epoch 7/20\n",
            "469/469 [==============================] - 1s 3ms/step - loss: 0.0780 - accuracy: 0.9773 - val_loss: 0.0952 - val_accuracy: 0.9723\n",
            "Epoch 8/20\n",
            "469/469 [==============================] - 1s 3ms/step - loss: 0.0687 - accuracy: 0.9803 - val_loss: 0.0939 - val_accuracy: 0.9730\n",
            "Epoch 9/20\n",
            "469/469 [==============================] - 1s 3ms/step - loss: 0.0615 - accuracy: 0.9821 - val_loss: 0.0893 - val_accuracy: 0.9746\n",
            "Epoch 10/20\n",
            "469/469 [==============================] - 1s 3ms/step - loss: 0.0549 - accuracy: 0.9840 - val_loss: 0.0885 - val_accuracy: 0.9736\n",
            "Epoch 11/20\n",
            "469/469 [==============================] - 1s 3ms/step - loss: 0.0501 - accuracy: 0.9854 - val_loss: 0.0875 - val_accuracy: 0.9746\n",
            "Epoch 12/20\n",
            "469/469 [==============================] - 1s 3ms/step - loss: 0.0452 - accuracy: 0.9868 - val_loss: 0.0823 - val_accuracy: 0.9751\n",
            "Epoch 13/20\n",
            "469/469 [==============================] - 1s 3ms/step - loss: 0.0411 - accuracy: 0.9878 - val_loss: 0.0850 - val_accuracy: 0.9758\n",
            "Epoch 14/20\n",
            "469/469 [==============================] - 1s 3ms/step - loss: 0.0370 - accuracy: 0.9896 - val_loss: 0.0845 - val_accuracy: 0.9759\n",
            "Epoch 15/20\n",
            "469/469 [==============================] - 1s 3ms/step - loss: 0.0330 - accuracy: 0.9909 - val_loss: 0.0888 - val_accuracy: 0.9738\n",
            "Epoch 00015: early stopping\n",
            "313/313 [==============================] - 0s 1ms/step - loss: 0.0888 - accuracy: 0.9738\n"
          ]
        }
      ]
    }
  ]
}